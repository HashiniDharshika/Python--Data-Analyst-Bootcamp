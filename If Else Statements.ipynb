{
 "cells": [
  {
   "cell_type": "code",
   "execution_count": 1,
   "id": "5f3342de-042d-48cf-85ab-2f6173d25482",
   "metadata": {},
   "outputs": [
    {
     "name": "stdout",
     "output_type": "stream",
     "text": [
      "It worked\n"
     ]
    }
   ],
   "source": [
    "if 25>10:\n",
    "    print('It worked')"
   ]
  },
  {
   "cell_type": "code",
   "execution_count": 7,
   "id": "671c0b6e-425d-4f45-afe1-f51a2d308cfb",
   "metadata": {},
   "outputs": [
    {
     "name": "stdout",
     "output_type": "stream",
     "text": [
      "It didn't work\n"
     ]
    }
   ],
   "source": [
    "if 25<10:\n",
    "    print('It worked')\n",
    "else:\n",
    "    print(\"It didn't work\")"
   ]
  },
  {
   "cell_type": "code",
   "execution_count": 8,
   "id": "141708fb-6fe1-4c59-bcfd-04aac38b9d1f",
   "metadata": {},
   "outputs": [
    {
     "name": "stdout",
     "output_type": "stream",
     "text": [
      "I dont know\n"
     ]
    }
   ],
   "source": [
    "if 25<10:\n",
    "    print('It worked')\n",
    "elif 25<30:\n",
    "    print('I dont know')\n",
    "else:\n",
    "    print(\"It didn't work\")"
   ]
  },
  {
   "cell_type": "code",
   "execution_count": 9,
   "id": "65f824fb-494f-472e-9243-a1046f8b328e",
   "metadata": {},
   "outputs": [
    {
     "name": "stdout",
     "output_type": "stream",
     "text": [
      "It worked\n"
     ]
    }
   ],
   "source": [
    "if (25<10) or (10<50):\n",
    "    print('It worked')\n",
    "elif 25<30:\n",
    "    print('I dont know')\n",
    "else:\n",
    "    print(\"It didn't work\")"
   ]
  },
  {
   "cell_type": "code",
   "execution_count": 11,
   "id": "8c2904f0-db16-4932-94ed-7072d43b40ae",
   "metadata": {},
   "outputs": [
    {
     "name": "stdout",
     "output_type": "stream",
     "text": [
      "It did not work!\n"
     ]
    }
   ],
   "source": [
    "print('It worked!') if 10>30 else print('It did not work!')"
   ]
  },
  {
   "cell_type": "code",
   "execution_count": 12,
   "id": "8d08466b-d98c-4176-8278-9aa1a60f2b89",
   "metadata": {},
   "outputs": [
    {
     "name": "stdout",
     "output_type": "stream",
     "text": [
      "It worked\n",
      "nested statement\n"
     ]
    }
   ],
   "source": [
    "if (25<10) or (10<50):\n",
    "    print('It worked')\n",
    "    if 10>4:\n",
    "        print('nested statement')\n",
    "elif 25<30:\n",
    "    print('I dont know')\n",
    "else:\n",
    "    print(\"It didn't work\")"
   ]
  },
  {
   "cell_type": "code",
   "execution_count": null,
   "id": "c188ae0a-6d4a-4ebe-abf7-fab9b26461c3",
   "metadata": {},
   "outputs": [],
   "source": []
  }
 ],
 "metadata": {
  "kernelspec": {
   "display_name": "Python 3 (ipykernel)",
   "language": "python",
   "name": "python3"
  },
  "language_info": {
   "codemirror_mode": {
    "name": "ipython",
    "version": 3
   },
   "file_extension": ".py",
   "mimetype": "text/x-python",
   "name": "python",
   "nbconvert_exporter": "python",
   "pygments_lexer": "ipython3",
   "version": "3.11.7"
  }
 },
 "nbformat": 4,
 "nbformat_minor": 5
}
