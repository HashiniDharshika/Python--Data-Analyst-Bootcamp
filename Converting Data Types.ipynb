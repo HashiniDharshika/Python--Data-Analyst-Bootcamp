{
 "cells": [
  {
   "cell_type": "code",
   "execution_count": 1,
   "id": "cb42b9ea-eae9-4c84-945d-02991b5014a2",
   "metadata": {},
   "outputs": [
    {
     "data": {
      "text/plain": [
       "int"
      ]
     },
     "execution_count": 1,
     "metadata": {},
     "output_type": "execute_result"
    }
   ],
   "source": [
    "num_int=7\n",
    "type(num_int)"
   ]
  },
  {
   "cell_type": "code",
   "execution_count": 2,
   "id": "0f8c9b33-4a72-496d-a9b2-8118f8a6e414",
   "metadata": {},
   "outputs": [
    {
     "data": {
      "text/plain": [
       "str"
      ]
     },
     "execution_count": 2,
     "metadata": {},
     "output_type": "execute_result"
    }
   ],
   "source": [
    "num_str='7'\n",
    "type(num_str)"
   ]
  },
  {
   "cell_type": "code",
   "execution_count": 6,
   "id": "839710fd-fb0d-4786-9b26-b298db737cfc",
   "metadata": {},
   "outputs": [
    {
     "data": {
      "text/plain": [
       "int"
      ]
     },
     "execution_count": 6,
     "metadata": {},
     "output_type": "execute_result"
    }
   ],
   "source": [
    "num_str_conv = int(num_str)\n",
    "type(num_str_conv)\n"
   ]
  },
  {
   "cell_type": "code",
   "execution_count": 8,
   "id": "64c543c8-8d9b-4cee-9261-34ca44ca51cc",
   "metadata": {},
   "outputs": [
    {
     "name": "stdout",
     "output_type": "stream",
     "text": [
      "14\n"
     ]
    },
    {
     "data": {
      "text/plain": [
       "int"
      ]
     },
     "execution_count": 8,
     "metadata": {},
     "output_type": "execute_result"
    }
   ],
   "source": [
    "num_sum =num_int + num_str_conv\n",
    "print(num_sum)\n",
    "type(num_sum)"
   ]
  },
  {
   "cell_type": "code",
   "execution_count": 9,
   "id": "48b55e3d-3644-44da-aa65-09cd330e790f",
   "metadata": {},
   "outputs": [
    {
     "data": {
      "text/plain": [
       "list"
      ]
     },
     "execution_count": 9,
     "metadata": {},
     "output_type": "execute_result"
    }
   ],
   "source": [
    "list_type = [1,2,3]\n",
    "type(list_type)"
   ]
  },
  {
   "cell_type": "code",
   "execution_count": 10,
   "id": "2124f7c0-457d-4d74-bac3-cbf7da49e822",
   "metadata": {},
   "outputs": [
    {
     "data": {
      "text/plain": [
       "tuple"
      ]
     },
     "execution_count": 10,
     "metadata": {},
     "output_type": "execute_result"
    }
   ],
   "source": [
    "type(tuple(list_type))"
   ]
  },
  {
   "cell_type": "code",
   "execution_count": null,
   "id": "b2ba1c46-8937-48a6-85da-e0a641a0d138",
   "metadata": {},
   "outputs": [],
   "source": [
    "list_type = [1,2,3,3,2,1,2,3,2,1]"
   ]
  },
  {
   "cell_type": "code",
   "execution_count": 12,
   "id": "479c2018-49cf-40ad-b2b7-3b25277e5ff1",
   "metadata": {},
   "outputs": [
    {
     "data": {
      "text/plain": [
       "set"
      ]
     },
     "execution_count": 12,
     "metadata": {},
     "output_type": "execute_result"
    }
   ],
   "source": [
    "type(set(list_type))"
   ]
  },
  {
   "cell_type": "code",
   "execution_count": 13,
   "id": "83d7ae6a-2412-4968-b7d2-3625be742f89",
   "metadata": {},
   "outputs": [
    {
     "data": {
      "text/plain": [
       "dict"
      ]
     },
     "execution_count": 13,
     "metadata": {},
     "output_type": "execute_result"
    }
   ],
   "source": [
    "dic_type={'name':'Alex','Age':28,'Hair':'N/A'}\n",
    "type(dic_type)"
   ]
  },
  {
   "cell_type": "code",
   "execution_count": 14,
   "id": "8f70360d-d009-448f-b9f3-94f748c392df",
   "metadata": {},
   "outputs": [
    {
     "data": {
      "text/plain": [
       "dict_items([('name', 'Alex'), ('Age', 28), ('Hair', 'N/A')])"
      ]
     },
     "execution_count": 14,
     "metadata": {},
     "output_type": "execute_result"
    }
   ],
   "source": [
    "dic_type.items()"
   ]
  },
  {
   "cell_type": "code",
   "execution_count": 15,
   "id": "35520314-bbad-41c8-adde-d158590bc159",
   "metadata": {},
   "outputs": [
    {
     "data": {
      "text/plain": [
       "dict_values(['Alex', 28, 'N/A'])"
      ]
     },
     "execution_count": 15,
     "metadata": {},
     "output_type": "execute_result"
    }
   ],
   "source": [
    "dic_type.values()"
   ]
  },
  {
   "cell_type": "code",
   "execution_count": 16,
   "id": "45c59508-0a8d-4d42-a1bf-1400be4e3d1d",
   "metadata": {},
   "outputs": [
    {
     "data": {
      "text/plain": [
       "dict_keys(['name', 'Age', 'Hair'])"
      ]
     },
     "execution_count": 16,
     "metadata": {},
     "output_type": "execute_result"
    }
   ],
   "source": [
    "dic_type.keys()"
   ]
  },
  {
   "cell_type": "code",
   "execution_count": 23,
   "id": "e03eb24c-370a-4e97-9724-73b0fe94bd98",
   "metadata": {},
   "outputs": [
    {
     "data": {
      "text/plain": [
       "['name', 'Age', 'Hair']"
      ]
     },
     "execution_count": 23,
     "metadata": {},
     "output_type": "execute_result"
    }
   ],
   "source": [
    "list(dic_type.keys())\n"
   ]
  },
  {
   "cell_type": "code",
   "execution_count": 21,
   "id": "bcef3139-bc88-449b-9f12-13e017170341",
   "metadata": {},
   "outputs": [
    {
     "data": {
      "text/plain": [
       "list"
      ]
     },
     "execution_count": 21,
     "metadata": {},
     "output_type": "execute_result"
    }
   ],
   "source": [
    "type(list(dic_type.keys()))"
   ]
  },
  {
   "cell_type": "code",
   "execution_count": 24,
   "id": "a0654666-621e-4b90-a7af-7c315c1673fa",
   "metadata": {},
   "outputs": [
    {
     "data": {
      "text/plain": [
       "dict_values"
      ]
     },
     "execution_count": 24,
     "metadata": {},
     "output_type": "execute_result"
    }
   ],
   "source": [
    "type(dic_type.values())"
   ]
  },
  {
   "cell_type": "code",
   "execution_count": 27,
   "id": "ca73cd29-3d82-4d10-98d9-6b9ed473a3a7",
   "metadata": {},
   "outputs": [
    {
     "data": {
      "text/plain": [
       "['I', ' ', 'l', 'i', 'k', 'e', ' ', 't', 'o', ' ', 'p', 'a', 'r', 't', 'y']"
      ]
     },
     "execution_count": 27,
     "metadata": {},
     "output_type": "execute_result"
    }
   ],
   "source": [
    "long_str =\"I like to party\"\n",
    "list(long_str)\n",
    "#all the letters"
   ]
  },
  {
   "cell_type": "code",
   "execution_count": 28,
   "id": "bacc651f-6624-452b-95a5-376cf6e65e2e",
   "metadata": {},
   "outputs": [
    {
     "data": {
      "text/plain": [
       "{' ', 'I', 'a', 'e', 'i', 'k', 'l', 'o', 'p', 'r', 't', 'y'}"
      ]
     },
     "execution_count": 28,
     "metadata": {},
     "output_type": "execute_result"
    }
   ],
   "source": [
    "long_str =\"I like to party\"\n",
    "set(long_str)\n",
    "#all the unique letters"
   ]
  },
  {
   "cell_type": "code",
   "execution_count": null,
   "id": "d9f4af20-f306-4093-b03b-3b443794baf3",
   "metadata": {},
   "outputs": [],
   "source": []
  }
 ],
 "metadata": {
  "kernelspec": {
   "display_name": "Python 3 (ipykernel)",
   "language": "python",
   "name": "python3"
  },
  "language_info": {
   "codemirror_mode": {
    "name": "ipython",
    "version": 3
   },
   "file_extension": ".py",
   "mimetype": "text/x-python",
   "name": "python",
   "nbconvert_exporter": "python",
   "pygments_lexer": "ipython3",
   "version": "3.11.7"
  }
 },
 "nbformat": 4,
 "nbformat_minor": 5
}
