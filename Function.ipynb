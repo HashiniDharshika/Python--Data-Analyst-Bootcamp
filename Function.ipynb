{
 "cells": [
  {
   "cell_type": "code",
   "execution_count": 4,
   "id": "d7882638-ead2-4c0c-8c4c-86e3cfdc68a3",
   "metadata": {},
   "outputs": [
    {
     "name": "stdout",
     "output_type": "stream",
     "text": [
      "We did it!\n"
     ]
    }
   ],
   "source": [
    "def first_func():\n",
    "    print('We did it!')\n",
    "first_func()"
   ]
  },
  {
   "cell_type": "code",
   "execution_count": 6,
   "id": "fc046ff8-8c35-4535-a3f1-6fefb6f2c406",
   "metadata": {},
   "outputs": [
    {
     "name": "stdout",
     "output_type": "stream",
     "text": [
      "25\n"
     ]
    }
   ],
   "source": [
    "def number_squared(number):\n",
    "    print(number**2)\n",
    "number_squared(5)"
   ]
  },
  {
   "cell_type": "code",
   "execution_count": 7,
   "id": "dc82083d-2ce0-43e7-b8b9-1bc9075fb951",
   "metadata": {},
   "outputs": [
    {
     "name": "stdout",
     "output_type": "stream",
     "text": [
      "125\n"
     ]
    }
   ],
   "source": [
    "def number_squared_cust(number,power):\n",
    "    print(number**power)\n",
    "number_squared_cust(5,3)"
   ]
  },
  {
   "cell_type": "code",
   "execution_count": 14,
   "id": "3dd56804-4228-48e3-8a22-8aaf2c8eee50",
   "metadata": {},
   "outputs": [
    {
     "name": "stdout",
     "output_type": "stream",
     "text": [
      "30\n"
     ]
    }
   ],
   "source": [
    "arg_tuple =(5,6,1,2,8)\n",
    "def number_args(*number):\n",
    "    print(number[0]*number[1])\n",
    "number_args(*arg_tuple)"
   ]
  },
  {
   "cell_type": "code",
   "execution_count": 15,
   "id": "5bade94a-8cfe-4dea-a25e-3ff137aab32f",
   "metadata": {},
   "outputs": [
    {
     "name": "stdout",
     "output_type": "stream",
     "text": [
      "243\n"
     ]
    }
   ],
   "source": [
    "def number_squared_cust(number,power):\n",
    "    print(number**power)\n",
    "number_squared_cust(power=5,number=3)"
   ]
  },
  {
   "cell_type": "code",
   "execution_count": 26,
   "id": "e26f206f-a814-45a2-87db-e81505130d07",
   "metadata": {},
   "outputs": [
    {
     "name": "stdout",
     "output_type": "stream",
     "text": [
      "My number is:2309 My other number:349\n"
     ]
    }
   ],
   "source": [
    "def number_kwarg(**number):\n",
    "    print('My number is:' + number['integer'] + ' My other number:'+ number['integer2'])\n",
    "number_kwarg(integer='2309',integer2 ='349')"
   ]
  },
  {
   "cell_type": "code",
   "execution_count": null,
   "id": "15d37b01-4c1b-4f35-830c-08b25cfdae62",
   "metadata": {},
   "outputs": [],
   "source": []
  }
 ],
 "metadata": {
  "kernelspec": {
   "display_name": "Python 3 (ipykernel)",
   "language": "python",
   "name": "python3"
  },
  "language_info": {
   "codemirror_mode": {
    "name": "ipython",
    "version": 3
   },
   "file_extension": ".py",
   "mimetype": "text/x-python",
   "name": "python",
   "nbconvert_exporter": "python",
   "pygments_lexer": "ipython3",
   "version": "3.11.7"
  }
 },
 "nbformat": 4,
 "nbformat_minor": 5
}
