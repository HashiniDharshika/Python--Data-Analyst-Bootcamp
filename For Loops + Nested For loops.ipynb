{
 "cells": [
  {
   "cell_type": "raw",
   "id": "7a19e869-beeb-4c98-a080-bdb2767bdd86",
   "metadata": {},
   "source": [
    "FOR LOOPS"
   ]
  },
  {
   "cell_type": "code",
   "execution_count": 1,
   "id": "60f7f3db-442c-453a-b93c-21ca17fff879",
   "metadata": {},
   "outputs": [],
   "source": [
    "integers=[1,2,3,4,5]"
   ]
  },
  {
   "cell_type": "code",
   "execution_count": 2,
   "id": "bb0824fa-9b27-4567-9287-5642dcedf52a",
   "metadata": {},
   "outputs": [
    {
     "name": "stdout",
     "output_type": "stream",
     "text": [
      "1\n",
      "2\n",
      "3\n",
      "4\n",
      "5\n"
     ]
    }
   ],
   "source": [
    "for number in integers:\n",
    "    print(number)"
   ]
  },
  {
   "cell_type": "code",
   "execution_count": 4,
   "id": "37a7422f-4b43-4549-8e0f-1a2ba3ef7e44",
   "metadata": {},
   "outputs": [
    {
     "name": "stdout",
     "output_type": "stream",
     "text": [
      "yep!\n",
      "yep!\n",
      "yep!\n",
      "yep!\n",
      "yep!\n"
     ]
    }
   ],
   "source": [
    "for number in integers:\n",
    "    print('yep!')"
   ]
  },
  {
   "cell_type": "code",
   "execution_count": null,
   "id": "0d598307-2de9-44be-bba9-e7fdb4c0f8b8",
   "metadata": {},
   "outputs": [],
   "source": [
    "integers=[1,2,3,4,5]"
   ]
  },
  {
   "cell_type": "code",
   "execution_count": 5,
   "id": "7b6b34f6-f557-42f9-b576-7d6fccf76707",
   "metadata": {},
   "outputs": [
    {
     "name": "stdout",
     "output_type": "stream",
     "text": [
      "2\n",
      "4\n",
      "6\n",
      "8\n",
      "10\n"
     ]
    }
   ],
   "source": [
    "for Jelly in integers:\n",
    "    print(Jelly+ Jelly)"
   ]
  },
  {
   "cell_type": "code",
   "execution_count": 10,
   "id": "2e0a23bf-79b1-46ce-9549-52058ad84182",
   "metadata": {},
   "outputs": [
    {
     "name": "stdout",
     "output_type": "stream",
     "text": [
      "Alex Freberg\n",
      "5\n",
      "['MCC', 'Choco']\n"
     ]
    }
   ],
   "source": [
    "ice_cream_dict = {'name':'Alex Freberg','weekly intake':5,'favourite ice creams':['MCC','Choco']}\n"
   ]
  },
  {
   "cell_type": "code",
   "execution_count": 11,
   "id": "6c5fa3ea-91a4-47cc-9541-26253514b5d0",
   "metadata": {},
   "outputs": [
    {
     "name": "stdout",
     "output_type": "stream",
     "text": [
      "Alex Freberg\n",
      "5\n",
      "['MCC', 'Choco']\n"
     ]
    }
   ],
   "source": [
    "for cream in ice_cream_dict.values():\n",
    "    print(cream)"
   ]
  },
  {
   "cell_type": "code",
   "execution_count": 15,
   "id": "322a5540-03d2-4297-8369-9c61c6cbfdac",
   "metadata": {
    "scrolled": true
   },
   "outputs": [
    {
     "name": "stdout",
     "output_type": "stream",
     "text": [
      "name --> Alex Freberg\n",
      "weekly intake --> 5\n",
      "favourite ice creams --> ['MCC', 'Choco']\n"
     ]
    }
   ],
   "source": [
    "for key, value in ice_cream_dict.items():\n",
    "    print(key,'-->',value)"
   ]
  },
  {
   "cell_type": "code",
   "execution_count": 18,
   "id": "2bf2d8a4-1ba4-4151-a567-24426a633a47",
   "metadata": {},
   "outputs": [
    {
     "name": "stdout",
     "output_type": "stream",
     "text": [
      "Vanila topped with Hot Fudge\n",
      "Vanila topped with Oreos\n",
      "Vanila topped with Marshmallows\n",
      "Chocolate topped with Hot Fudge\n",
      "Chocolate topped with Oreos\n",
      "Chocolate topped with Marshmallows\n",
      "Cookie Dough topped with Hot Fudge\n",
      "Cookie Dough topped with Oreos\n",
      "Cookie Dough topped with Marshmallows\n"
     ]
    }
   ],
   "source": [
    "flavors =['Vanila','Chocolate','Cookie Dough']\n",
    "toppings =['Hot Fudge','Oreos','Marshmallows']\n",
    "for one in flavors:\n",
    "    for two in toppings:\n",
    "        print(one,'topped with',two)"
   ]
  },
  {
   "cell_type": "code",
   "execution_count": null,
   "id": "fd1e3c29-d01c-444e-8956-8a6b0cfcf237",
   "metadata": {},
   "outputs": [],
   "source": []
  }
 ],
 "metadata": {
  "kernelspec": {
   "display_name": "Python 3 (ipykernel)",
   "language": "python",
   "name": "python3"
  },
  "language_info": {
   "codemirror_mode": {
    "name": "ipython",
    "version": 3
   },
   "file_extension": ".py",
   "mimetype": "text/x-python",
   "name": "python",
   "nbconvert_exporter": "python",
   "pygments_lexer": "ipython3",
   "version": "3.11.7"
  }
 },
 "nbformat": 4,
 "nbformat_minor": 5
}
