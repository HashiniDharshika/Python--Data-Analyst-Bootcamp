{
 "cells": [
  {
   "cell_type": "raw",
   "id": "c1581713-db66-4d0a-902b-608429f85714",
   "metadata": {},
   "source": [
    "Comparison Operators\n",
    "==,<,>,<=,>=,<>"
   ]
  },
  {
   "cell_type": "code",
   "execution_count": 1,
   "id": "4762bcee-a645-4ac1-ba5e-f7312f44b81b",
   "metadata": {},
   "outputs": [
    {
     "data": {
      "text/plain": [
       "False"
      ]
     },
     "execution_count": 1,
     "metadata": {},
     "output_type": "execute_result"
    }
   ],
   "source": [
    "10==50"
   ]
  },
  {
   "cell_type": "code",
   "execution_count": 2,
   "id": "5d00948a-43c3-49c8-bf9e-bd8d06d1e709",
   "metadata": {},
   "outputs": [
    {
     "data": {
      "text/plain": [
       "True"
      ]
     },
     "execution_count": 2,
     "metadata": {},
     "output_type": "execute_result"
    }
   ],
   "source": [
    "10 !=50"
   ]
  },
  {
   "cell_type": "code",
   "execution_count": 3,
   "id": "b019caca-4db0-4224-b392-8238f30b9f7f",
   "metadata": {},
   "outputs": [
    {
     "data": {
      "text/plain": [
       "True"
      ]
     },
     "execution_count": 3,
     "metadata": {},
     "output_type": "execute_result"
    }
   ],
   "source": [
    "'Vanila'=='Vanila'"
   ]
  },
  {
   "cell_type": "code",
   "execution_count": 4,
   "id": "7b62ae61-ff4b-43ed-b54b-483160db4521",
   "metadata": {},
   "outputs": [
    {
     "data": {
      "text/plain": [
       "True"
      ]
     },
     "execution_count": 4,
     "metadata": {},
     "output_type": "execute_result"
    }
   ],
   "source": [
    "x='pani'\n",
    "y='pori'\n",
    "x != y"
   ]
  },
  {
   "cell_type": "code",
   "execution_count": 5,
   "id": "3cedd8e6-2ac4-4d27-94c6-d946099f33ec",
   "metadata": {},
   "outputs": [
    {
     "data": {
      "text/plain": [
       "True"
      ]
     },
     "execution_count": 5,
     "metadata": {},
     "output_type": "execute_result"
    }
   ],
   "source": [
    "10<50"
   ]
  },
  {
   "cell_type": "code",
   "execution_count": 6,
   "id": "f37f7d70-1471-4dad-a1ad-26720952a91e",
   "metadata": {},
   "outputs": [
    {
     "data": {
      "text/plain": [
       "True"
      ]
     },
     "execution_count": 6,
     "metadata": {},
     "output_type": "execute_result"
    }
   ],
   "source": [
    "10<=10"
   ]
  },
  {
   "cell_type": "code",
   "execution_count": 7,
   "id": "bf9d5593-117d-4273-a2c2-bf6c841f4c51",
   "metadata": {},
   "outputs": [
    {
     "data": {
      "text/plain": [
       "True"
      ]
     },
     "execution_count": 7,
     "metadata": {},
     "output_type": "execute_result"
    }
   ],
   "source": [
    "10>=10"
   ]
  },
  {
   "cell_type": "raw",
   "id": "856e34b5-2270-41b5-b6b5-f8a273785560",
   "metadata": {},
   "source": [
    "LOGICAL OPERATORS"
   ]
  },
  {
   "cell_type": "code",
   "execution_count": 8,
   "id": "c1dc8bb2-0d0c-434a-aeef-6bec3a7c24be",
   "metadata": {},
   "outputs": [
    {
     "data": {
      "text/plain": [
       "False"
      ]
     },
     "execution_count": 8,
     "metadata": {},
     "output_type": "execute_result"
    }
   ],
   "source": [
    "(10>50) and (50>10) "
   ]
  },
  {
   "cell_type": "code",
   "execution_count": 9,
   "id": "4788a125-29a9-486e-9bcb-ffa8b7b6bf01",
   "metadata": {},
   "outputs": [
    {
     "data": {
      "text/plain": [
       "True"
      ]
     },
     "execution_count": 9,
     "metadata": {},
     "output_type": "execute_result"
    }
   ],
   "source": [
    "(10>50) or (50>10) "
   ]
  },
  {
   "cell_type": "code",
   "execution_count": 10,
   "id": "d06b16f9-c45a-4b3e-a05b-f52fc9f0b4c6",
   "metadata": {},
   "outputs": [
    {
     "data": {
      "text/plain": [
       "False"
      ]
     },
     "execution_count": 10,
     "metadata": {},
     "output_type": "execute_result"
    }
   ],
   "source": [
    "('Vanila'>'chocolate') and (50>10)\n",
    "#V>C"
   ]
  },
  {
   "cell_type": "code",
   "execution_count": 11,
   "id": "0f41f01c-cb7b-42db-beac-9be6a9550010",
   "metadata": {},
   "outputs": [
    {
     "data": {
      "text/plain": [
       "False"
      ]
     },
     "execution_count": 11,
     "metadata": {},
     "output_type": "execute_result"
    }
   ],
   "source": [
    "not(10<20)"
   ]
  },
  {
   "cell_type": "raw",
   "id": "0c12c5c9-dbfa-4483-826e-84196e273e8e",
   "metadata": {},
   "source": [
    "MEMBERSHIP OPERATORS\n",
    "in-REturns true if a sequence with the specified value is present in the object\n",
    "not in- REturns true if a sequence with the specified value is not present in the object"
   ]
  },
  {
   "cell_type": "code",
   "execution_count": 13,
   "id": "c1e30648-47ef-4f2b-a804-ccc59bd7b05f",
   "metadata": {},
   "outputs": [
    {
     "data": {
      "text/plain": [
       "True"
      ]
     },
     "execution_count": 13,
     "metadata": {},
     "output_type": "execute_result"
    }
   ],
   "source": [
    "ice_cream = 'I love chocolate ice cream'\n",
    "'love' in ice_cream"
   ]
  },
  {
   "cell_type": "code",
   "execution_count": 14,
   "id": "c16115ab-b9f9-4add-8838-9cb87b0f2aa0",
   "metadata": {},
   "outputs": [
    {
     "data": {
      "text/plain": [
       "False"
      ]
     },
     "execution_count": 14,
     "metadata": {},
     "output_type": "execute_result"
    }
   ],
   "source": [
    "scoops=[1,2,3,4,5]\n",
    "5 not in scoops "
   ]
  },
  {
   "cell_type": "code",
   "execution_count": 15,
   "id": "422e5032-46b9-4c91-aa36-ceb708621364",
   "metadata": {},
   "outputs": [
    {
     "data": {
      "text/plain": [
       "False"
      ]
     },
     "execution_count": 15,
     "metadata": {},
     "output_type": "execute_result"
    }
   ],
   "source": [
    "scoops=[1,2,3,4,5]\n",
    "wanted_sccops=8\n",
    "wanted_sccops in scoops "
   ]
  },
  {
   "cell_type": "code",
   "execution_count": null,
   "id": "65612351-3829-4c0c-afc6-aae705100bef",
   "metadata": {},
   "outputs": [],
   "source": []
  }
 ],
 "metadata": {
  "kernelspec": {
   "display_name": "Python 3 (ipykernel)",
   "language": "python",
   "name": "python3"
  },
  "language_info": {
   "codemirror_mode": {
    "name": "ipython",
    "version": 3
   },
   "file_extension": ".py",
   "mimetype": "text/x-python",
   "name": "python",
   "nbconvert_exporter": "python",
   "pygments_lexer": "ipython3",
   "version": "3.11.7"
  }
 },
 "nbformat": 4,
 "nbformat_minor": 5
}
