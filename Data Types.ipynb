{
 "cells": [
  {
   "cell_type": "raw",
   "id": "786e4d9c-fd6a-4028-8b85-0f8832c3de21",
   "metadata": {},
   "source": [
    "Data Types"
   ]
  },
  {
   "cell_type": "raw",
   "id": "a125a641-a125-4076-a094-a7692163f949",
   "metadata": {},
   "source": [
    "Numeric, Sequence type, set, Boolean and dictionary\n",
    "1. NUMERIC- Integer, floats and complex numbers\n",
    "2. BOOLEAN- True or False"
   ]
  },
  {
   "cell_type": "code",
   "execution_count": 1,
   "id": "e78b1605-ee77-4e32-8740-915aa372ad90",
   "metadata": {},
   "outputs": [
    {
     "data": {
      "text/plain": [
       "int"
      ]
     },
     "execution_count": 1,
     "metadata": {},
     "output_type": "execute_result"
    }
   ],
   "source": [
    "type(3+1)"
   ]
  },
  {
   "cell_type": "code",
   "execution_count": 2,
   "id": "d3667cbc-9e48-4e0a-a17a-e139e7cf2363",
   "metadata": {},
   "outputs": [
    {
     "data": {
      "text/plain": [
       "float"
      ]
     },
     "execution_count": 2,
     "metadata": {},
     "output_type": "execute_result"
    }
   ],
   "source": [
    "type(3+1.26)"
   ]
  },
  {
   "cell_type": "code",
   "execution_count": 14,
   "id": "9acf9648-64de-4881-9cb8-f723b10b004b",
   "metadata": {},
   "outputs": [
    {
     "data": {
      "text/plain": [
       "complex"
      ]
     },
     "execution_count": 14,
     "metadata": {},
     "output_type": "execute_result"
    }
   ],
   "source": [
    "type(12+3j)\n",
    "# only j can use"
   ]
  },
  {
   "cell_type": "code",
   "execution_count": 4,
   "id": "eef65691-5d6b-4c52-918a-ec45e624650d",
   "metadata": {},
   "outputs": [
    {
     "ename": "SyntaxError",
     "evalue": "invalid decimal literal (1486121868.py, line 1)",
     "output_type": "error",
     "traceback": [
      "\u001b[1;36m  Cell \u001b[1;32mIn[4], line 1\u001b[1;36m\u001b[0m\n\u001b[1;33m    type(12+3c)\u001b[0m\n\u001b[1;37m            ^\u001b[0m\n\u001b[1;31mSyntaxError\u001b[0m\u001b[1;31m:\u001b[0m invalid decimal literal\n"
     ]
    }
   ],
   "source": [
    "type(12+3c)"
   ]
  },
  {
   "cell_type": "code",
   "execution_count": null,
   "id": "a201e0bb-1261-4e83-9814-27bd7fde966b",
   "metadata": {},
   "outputs": [],
   "source": []
  },
  {
   "cell_type": "code",
   "execution_count": 5,
   "id": "7e546492-8950-4327-b2cd-d9dd69db7ae6",
   "metadata": {},
   "outputs": [
    {
     "data": {
      "text/plain": [
       "bool"
      ]
     },
     "execution_count": 5,
     "metadata": {},
     "output_type": "execute_result"
    }
   ],
   "source": [
    "type(True)"
   ]
  },
  {
   "cell_type": "code",
   "execution_count": 6,
   "id": "9bf21d68-b928-4e44-a047-c93ce7cd0fa9",
   "metadata": {},
   "outputs": [
    {
     "data": {
      "text/plain": [
       "bool"
      ]
     },
     "execution_count": 6,
     "metadata": {},
     "output_type": "execute_result"
    }
   ],
   "source": [
    "type(1>5)"
   ]
  },
  {
   "cell_type": "code",
   "execution_count": 7,
   "id": "f7dfb693-6457-45f1-a741-6f0bbbd51b91",
   "metadata": {},
   "outputs": [
    {
     "data": {
      "text/plain": [
       "False"
      ]
     },
     "execution_count": 7,
     "metadata": {},
     "output_type": "execute_result"
    }
   ],
   "source": [
    "1==5"
   ]
  },
  {
   "cell_type": "code",
   "execution_count": 8,
   "id": "5b7acb1a-b708-4874-bb87-c4f4e0875e4b",
   "metadata": {},
   "outputs": [
    {
     "data": {
      "text/plain": [
       "True"
      ]
     },
     "execution_count": 8,
     "metadata": {},
     "output_type": "execute_result"
    }
   ],
   "source": [
    "2<5"
   ]
  },
  {
   "cell_type": "code",
   "execution_count": null,
   "id": "2c5eb009-ae66-408b-9ec6-aa67e5dd18d3",
   "metadata": {},
   "outputs": [],
   "source": []
  },
  {
   "cell_type": "code",
   "execution_count": 9,
   "id": "23d66fc0-5784-415d-9ebb-fdb5782772bd",
   "metadata": {},
   "outputs": [
    {
     "data": {
      "text/plain": [
       "'Single Quote'"
      ]
     },
     "execution_count": 9,
     "metadata": {},
     "output_type": "execute_result"
    }
   ],
   "source": [
    "'Single Quote'"
   ]
  },
  {
   "cell_type": "code",
   "execution_count": 10,
   "id": "7c633929-6577-49c5-86e8-f9f5a849e5cc",
   "metadata": {},
   "outputs": [
    {
     "data": {
      "text/plain": [
       "'Double Quote'"
      ]
     },
     "execution_count": 10,
     "metadata": {},
     "output_type": "execute_result"
    }
   ],
   "source": [
    "\"Double Quote\""
   ]
  },
  {
   "cell_type": "code",
   "execution_count": 11,
   "id": "29506bd0-342e-4611-98f6-71fe4f9394a1",
   "metadata": {},
   "outputs": [
    {
     "name": "stdout",
     "output_type": "stream",
     "text": [
      "\n",
      "The ice cream vanquished\n",
      "my longing for sweets,\n",
      "upon this diet I look away,\n",
      "it no longer exists on this day.\n",
      "\n"
     ]
    }
   ],
   "source": [
    "multiline =\"\"\"\n",
    "The ice cream vanquished\n",
    "my longing for sweets,\n",
    "upon this diet I look away,\n",
    "it no longer exists on this day.\n",
    "\"\"\"\n",
    "print(multiline)"
   ]
  },
  {
   "cell_type": "code",
   "execution_count": 13,
   "id": "b22a9b67-f5b1-4fbe-9b51-5a35d73afdd2",
   "metadata": {},
   "outputs": [
    {
     "data": {
      "text/plain": [
       "str"
      ]
     },
     "execution_count": 13,
     "metadata": {},
     "output_type": "execute_result"
    }
   ],
   "source": [
    "type(multiline)"
   ]
  },
  {
   "cell_type": "code",
   "execution_count": null,
   "id": "af4abe5b-caba-4e49-9bf2-a2aeef41c886",
   "metadata": {},
   "outputs": [],
   "source": []
  },
  {
   "cell_type": "code",
   "execution_count": 18,
   "id": "6aaef552-75f4-4a7c-8912-2bed5874d770",
   "metadata": {},
   "outputs": [
    {
     "name": "stdout",
     "output_type": "stream",
     "text": [
      "Hell\n"
     ]
    }
   ],
   "source": [
    "#last printed number didn't print\n",
    "a='Hello world!'\n",
    "print(a[:4])"
   ]
  },
  {
   "cell_type": "code",
   "execution_count": null,
   "id": "7d5f6b43-ff29-4552-a599-a1f48a57d57e",
   "metadata": {},
   "outputs": [],
   "source": []
  },
  {
   "cell_type": "code",
   "execution_count": 19,
   "id": "3e819116-2720-4a47-a481-293b913b0477",
   "metadata": {},
   "outputs": [
    {
     "data": {
      "text/plain": [
       "[1, 2, 3]"
      ]
     },
     "execution_count": 19,
     "metadata": {},
     "output_type": "execute_result"
    }
   ],
   "source": [
    "#list\n",
    "[1,2,3]"
   ]
  },
  {
   "cell_type": "code",
   "execution_count": 20,
   "id": "304d0177-ef32-46ab-a7bd-00411df4c014",
   "metadata": {},
   "outputs": [
    {
     "data": {
      "text/plain": [
       "['Cookie Dough', 'Strawberry', 'Chocolate']"
      ]
     },
     "execution_count": 20,
     "metadata": {},
     "output_type": "execute_result"
    }
   ],
   "source": [
    "['Cookie Dough','Strawberry','Chocolate']"
   ]
  },
  {
   "cell_type": "code",
   "execution_count": 21,
   "id": "6520184b-b30c-4e9b-9481-fc0a144c6ebf",
   "metadata": {},
   "outputs": [
    {
     "data": {
      "text/plain": [
       "['vanila', 3, ['Scoops', 'Spoon'], True]"
      ]
     },
     "execution_count": 21,
     "metadata": {},
     "output_type": "execute_result"
    }
   ],
   "source": [
    "['vanila',3,['Scoops','Spoon'],True]"
   ]
  },
  {
   "cell_type": "code",
   "execution_count": 22,
   "id": "31713289-67a5-420f-a6dc-4409ad6a4f50",
   "metadata": {},
   "outputs": [
    {
     "data": {
      "text/plain": [
       "['Cookie Dough', 'Strawberry', 'Chocolate', 'Salted Caramel']"
      ]
     },
     "execution_count": 22,
     "metadata": {},
     "output_type": "execute_result"
    }
   ],
   "source": [
    "ice_cream = ['Cookie Dough','Strawberry','Chocolate']\n",
    "ice_cream.append('Salted Caramel')\n",
    "ice_cream"
   ]
  },
  {
   "cell_type": "code",
   "execution_count": 23,
   "id": "aee6b4af-6ca9-4416-8d86-d2fe32ac6c79",
   "metadata": {},
   "outputs": [
    {
     "data": {
      "text/plain": [
       "['Butter', 'Strawberry', 'Chocolate', 'Salted Caramel']"
      ]
     },
     "execution_count": 23,
     "metadata": {},
     "output_type": "execute_result"
    }
   ],
   "source": [
    "ice_cream[0]='Butter'\n",
    "ice_cream"
   ]
  },
  {
   "cell_type": "code",
   "execution_count": null,
   "id": "501a6539-5f1b-40d0-b3ac-b7fda2a4773b",
   "metadata": {},
   "outputs": [],
   "source": []
  },
  {
   "cell_type": "code",
   "execution_count": 24,
   "id": "31747859-8e16-48d1-b572-11aff81852d8",
   "metadata": {},
   "outputs": [
    {
     "data": {
      "text/plain": [
       "['Scoops', 'Spoon']"
      ]
     },
     "execution_count": 24,
     "metadata": {},
     "output_type": "execute_result"
    }
   ],
   "source": [
    "nest_list =['Vanila', 3, ['Scoops','Spoon'], True]\n",
    "nest_list[2]"
   ]
  },
  {
   "cell_type": "code",
   "execution_count": 25,
   "id": "d6348662-013a-499f-a175-0d482fdb799c",
   "metadata": {},
   "outputs": [
    {
     "data": {
      "text/plain": [
       "'Spoon'"
      ]
     },
     "execution_count": 25,
     "metadata": {},
     "output_type": "execute_result"
    }
   ],
   "source": [
    "nest_list[2][1]"
   ]
  },
  {
   "cell_type": "code",
   "execution_count": null,
   "id": "5ed7ac44-50f9-40d9-919a-7738e15f92d1",
   "metadata": {},
   "outputs": [],
   "source": []
  },
  {
   "cell_type": "code",
   "execution_count": 26,
   "id": "41c6920c-5739-45af-ac20-17847a7a4bf4",
   "metadata": {},
   "outputs": [
    {
     "data": {
      "text/plain": [
       "tuple"
      ]
     },
     "execution_count": 26,
     "metadata": {},
     "output_type": "execute_result"
    }
   ],
   "source": [
    "#tuple\n",
    "tuple_scoops = (1,2,3,2,1) \n",
    "type(tuple_scoops)"
   ]
  },
  {
   "cell_type": "code",
   "execution_count": 27,
   "id": "d05998d8-4a6f-4b24-807c-af039a88d180",
   "metadata": {},
   "outputs": [
    {
     "data": {
      "text/plain": [
       "1"
      ]
     },
     "execution_count": 27,
     "metadata": {},
     "output_type": "execute_result"
    }
   ],
   "source": [
    "tuple_scoops[0]"
   ]
  },
  {
   "cell_type": "code",
   "execution_count": 29,
   "id": "47e5dfec-aed8-432b-91ff-8766f73ee650",
   "metadata": {},
   "outputs": [
    {
     "ename": "AttributeError",
     "evalue": "'tuple' object has no attribute 'append'",
     "output_type": "error",
     "traceback": [
      "\u001b[1;31m---------------------------------------------------------------------------\u001b[0m",
      "\u001b[1;31mAttributeError\u001b[0m                            Traceback (most recent call last)",
      "Cell \u001b[1;32mIn[29], line 1\u001b[0m\n\u001b[1;32m----> 1\u001b[0m tuple_scoops\u001b[38;5;241m.\u001b[39mappend(\u001b[38;5;241m3\u001b[39m)\n",
      "\u001b[1;31mAttributeError\u001b[0m: 'tuple' object has no attribute 'append'"
     ]
    }
   ],
   "source": [
    "tuple_scoops.append(3)\n",
    "# we cannot change items in tuple.\n",
    "#We can not change or add anything to tuple.\n",
    "#We use it the data is never going to chage"
   ]
  },
  {
   "cell_type": "code",
   "execution_count": null,
   "id": "3cc66523-b8b0-4124-9a1a-7e5c235c357b",
   "metadata": {},
   "outputs": [],
   "source": []
  },
  {
   "cell_type": "code",
   "execution_count": null,
   "id": "bd9d930e-e9f5-4006-8078-c0261176ffb8",
   "metadata": {},
   "outputs": [],
   "source": [
    "#sets\n",
    "# no any duplicate elements \n",
    "# cannot be accessed using an index bcz it doesn't have an index bcz actually unordered\n",
    "# we can still loop through the items in a set with something like a for loop.\n",
    "# but we cannot access it using bracket can access its index points"
   ]
  },
  {
   "cell_type": "code",
   "execution_count": 30,
   "id": "a43fe88b-da34-42ae-8906-e9cf318bba13",
   "metadata": {},
   "outputs": [
    {
     "data": {
      "text/plain": [
       "set"
      ]
     },
     "execution_count": 30,
     "metadata": {},
     "output_type": "execute_result"
    }
   ],
   "source": [
    "daily_pints={1,2,3}\n",
    "type(daily_pints)"
   ]
  },
  {
   "cell_type": "code",
   "execution_count": 31,
   "id": "244803dd-ec72-4942-9da9-9d0bd94c8e0d",
   "metadata": {},
   "outputs": [
    {
     "name": "stdout",
     "output_type": "stream",
     "text": [
      "{1, 2, 3}\n"
     ]
    }
   ],
   "source": [
    " print(daily_pints)"
   ]
  },
  {
   "cell_type": "code",
   "execution_count": 32,
   "id": "2b2ec899-e696-4849-8a0d-6d259addd64c",
   "metadata": {},
   "outputs": [
    {
     "name": "stdout",
     "output_type": "stream",
     "text": [
      "{1, 2, 3, 4, 5, 6, 31}\n"
     ]
    }
   ],
   "source": [
    "daily_pints_log={1,2,31,2,3,4,1,2,5,6,3,2}\n",
    "print(daily_pints_log)\n",
    "# no duplicates"
   ]
  },
  {
   "cell_type": "code",
   "execution_count": 33,
   "id": "b6a72f94-91fe-4616-9721-cb2b727aa949",
   "metadata": {},
   "outputs": [
    {
     "name": "stdout",
     "output_type": "stream",
     "text": [
      "{0, 1, 2, 3, 5, 7, 24}\n"
     ]
    }
   ],
   "source": [
    "wife_daily_pints_log={1,3,5,7,3,24,5,7,3,2,0}\n",
    "print(wife_daily_pints_log)"
   ]
  },
  {
   "cell_type": "code",
   "execution_count": 34,
   "id": "813b0421-0f30-485a-8aeb-43606812ae4e",
   "metadata": {},
   "outputs": [
    {
     "name": "stdout",
     "output_type": "stream",
     "text": [
      "{0, 1, 2, 3, 4, 5, 6, 7, 24, 31}\n"
     ]
    }
   ],
   "source": [
    "print(daily_pints_log|wife_daily_pints_log)"
   ]
  },
  {
   "cell_type": "code",
   "execution_count": 35,
   "id": "17857973-48f2-4d13-b3ed-bd8a2ab5d780",
   "metadata": {},
   "outputs": [
    {
     "name": "stdout",
     "output_type": "stream",
     "text": [
      "{1, 2, 3, 5}\n"
     ]
    }
   ],
   "source": [
    "print(daily_pints_log&wife_daily_pints_log)"
   ]
  },
  {
   "cell_type": "code",
   "execution_count": 36,
   "id": "47ac1bb1-0ce6-4838-8382-848aa790fffe",
   "metadata": {},
   "outputs": [
    {
     "name": "stdout",
     "output_type": "stream",
     "text": [
      "{4, 6, 31}\n"
     ]
    }
   ],
   "source": [
    "print(daily_pints_log - wife_daily_pints_log)"
   ]
  },
  {
   "cell_type": "code",
   "execution_count": 37,
   "id": "d6d4f764-4bdc-4542-8937-37393108ebb9",
   "metadata": {},
   "outputs": [
    {
     "name": "stdout",
     "output_type": "stream",
     "text": [
      "{0, 4, 6, 7, 24, 31}\n"
     ]
    }
   ],
   "source": [
    "print(daily_pints_log^wife_daily_pints_log)"
   ]
  },
  {
   "cell_type": "code",
   "execution_count": null,
   "id": "88c1cdab-7ee7-44f5-98e6-b96f943aad7f",
   "metadata": {},
   "outputs": [],
   "source": []
  },
  {
   "cell_type": "code",
   "execution_count": 38,
   "id": "029a18c1-9a92-4327-98be-41a09923d92c",
   "metadata": {},
   "outputs": [],
   "source": [
    " #dictionaries\n",
    "#key/value pair\n",
    "\n",
    "dict_cream = {'name':'Alex Freberg','weekly intake':5, 'favourite ice creams':['MCC','Choco']}"
   ]
  },
  {
   "cell_type": "code",
   "execution_count": 39,
   "id": "98bce5b3-7e0d-42f5-b465-3cba499505c4",
   "metadata": {},
   "outputs": [
    {
     "data": {
      "text/plain": [
       "dict"
      ]
     },
     "execution_count": 39,
     "metadata": {},
     "output_type": "execute_result"
    }
   ],
   "source": [
    "type(dict_cream)"
   ]
  },
  {
   "cell_type": "code",
   "execution_count": 40,
   "id": "be301891-95e2-4790-bac8-3e3fd6faaa0d",
   "metadata": {},
   "outputs": [
    {
     "name": "stdout",
     "output_type": "stream",
     "text": [
      "{'name': 'Alex Freberg', 'weekly intake': 5, 'favourite ice creams': ['MCC', 'Choco']}\n"
     ]
    }
   ],
   "source": [
    "print(dict_cream)"
   ]
  },
  {
   "cell_type": "code",
   "execution_count": 41,
   "id": "eb89237e-7e6e-4a7b-b5c9-b2cbfad014d7",
   "metadata": {},
   "outputs": [
    {
     "data": {
      "text/plain": [
       "dict_values(['Alex Freberg', 5, ['MCC', 'Choco']])"
      ]
     },
     "execution_count": 41,
     "metadata": {},
     "output_type": "execute_result"
    }
   ],
   "source": [
    "dict_cream.values()"
   ]
  },
  {
   "cell_type": "code",
   "execution_count": 42,
   "id": "a3ea9420-3977-4fae-8316-0e18142ab698",
   "metadata": {},
   "outputs": [
    {
     "data": {
      "text/plain": [
       "dict_keys(['name', 'weekly intake', 'favourite ice creams'])"
      ]
     },
     "execution_count": 42,
     "metadata": {},
     "output_type": "execute_result"
    }
   ],
   "source": [
    "dict_cream.keys()"
   ]
  },
  {
   "cell_type": "code",
   "execution_count": 43,
   "id": "725aad05-ecc9-42d3-ad8b-d86f4b2ba074",
   "metadata": {},
   "outputs": [
    {
     "data": {
      "text/plain": [
       "dict_items([('name', 'Alex Freberg'), ('weekly intake', 5), ('favourite ice creams', ['MCC', 'Choco'])])"
      ]
     },
     "execution_count": 43,
     "metadata": {},
     "output_type": "execute_result"
    }
   ],
   "source": [
    "dict_cream.items()"
   ]
  },
  {
   "cell_type": "code",
   "execution_count": 44,
   "id": "c25e9fc9-abaa-42f9-b65d-e3c9e40f6da8",
   "metadata": {},
   "outputs": [
    {
     "data": {
      "text/plain": [
       "'Alex Freberg'"
      ]
     },
     "execution_count": 44,
     "metadata": {},
     "output_type": "execute_result"
    }
   ],
   "source": [
    "dict_cream['name']"
   ]
  },
  {
   "cell_type": "code",
   "execution_count": 47,
   "id": "1792ed37-ff2a-409c-a2f7-eb9fb429c627",
   "metadata": {},
   "outputs": [
    {
     "name": "stdout",
     "output_type": "stream",
     "text": [
      "{'name': 'Hashini Dharshika', 'weekly intake': 5, 'favourite ice creams': ['MCC', 'Choco']}\n"
     ]
    }
   ],
   "source": [
    "dict_cream['name']='Hashini Dharshika'\n",
    "print(dict_cream)"
   ]
  },
  {
   "cell_type": "code",
   "execution_count": 48,
   "id": "a7fc3d88-4400-44ea-b8c9-83c3f7cfbcd5",
   "metadata": {},
   "outputs": [
    {
     "name": "stdout",
     "output_type": "stream",
     "text": [
      "{'name': 'Hashini Dharshika', 'weekly intake': 5, 'favourite ice creams': ['MCC', 'Choco'], 'weight': 300}\n"
     ]
    }
   ],
   "source": [
    "dict_cream.update({'name': 'Hashini Dharshika', 'weekly intake': 5, 'weight': 300})\n",
    "print(dict_cream)"
   ]
  },
  {
   "cell_type": "code",
   "execution_count": 49,
   "id": "348a689b-a382-4445-94cb-2ae80332ae7e",
   "metadata": {},
   "outputs": [
    {
     "name": "stdout",
     "output_type": "stream",
     "text": [
      "{'name': 'Hashini Dharshika', 'weekly intake': 5, 'favourite ice creams': ['MCC', 'Choco']}\n"
     ]
    }
   ],
   "source": [
    "del dict_cream['weight']\n",
    "print(dict_cream)"
   ]
  },
  {
   "cell_type": "code",
   "execution_count": null,
   "id": "c830e9a9-4e44-407b-a8c1-96bbece8382f",
   "metadata": {},
   "outputs": [],
   "source": []
  }
 ],
 "metadata": {
  "kernelspec": {
   "display_name": "Python 3 (ipykernel)",
   "language": "python",
   "name": "python3"
  },
  "language_info": {
   "codemirror_mode": {
    "name": "ipython",
    "version": 3
   },
   "file_extension": ".py",
   "mimetype": "text/x-python",
   "name": "python",
   "nbconvert_exporter": "python",
   "pygments_lexer": "ipython3",
   "version": "3.11.7"
  }
 },
 "nbformat": 4,
 "nbformat_minor": 5
}
