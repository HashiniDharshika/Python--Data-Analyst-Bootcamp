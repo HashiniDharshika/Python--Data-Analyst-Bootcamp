{
 "cells": [
  {
   "cell_type": "raw",
   "id": "be27d5e9-f7a3-48b5-bc15-186bdcc831bc",
   "metadata": {},
   "source": [
    "Automatic File Sorter in File Explorer"
   ]
  },
  {
   "cell_type": "code",
   "execution_count": 9,
   "id": "fb05e26d-c578-4168-8ed3-235850c7439f",
   "metadata": {},
   "outputs": [],
   "source": [
    "import os,shutil"
   ]
  },
  {
   "cell_type": "code",
   "execution_count": 15,
   "id": "21e7cce1-5bf1-4d92-bcf7-6f5e1d5af174",
   "metadata": {},
   "outputs": [],
   "source": [
    "path= r\"C:/Users/User/Python- Data Analyst Bootcamp/Automatic File Sorter/\""
   ]
  },
  {
   "cell_type": "code",
   "execution_count": 26,
   "id": "51234878-db05-41fd-94a8-fd943ef0d23a",
   "metadata": {},
   "outputs": [],
   "source": [
    "file_name= os.listdir(path)"
   ]
  },
  {
   "cell_type": "code",
   "execution_count": 28,
   "id": "797666bd-3b06-4fdf-bf3d-661113c230ca",
   "metadata": {},
   "outputs": [],
   "source": [
    "folder_names = ['csv files' , 'image files' , 'text files']\n",
    "\n",
    "for loop in range(0,3):\n",
    "    if not os.path.exists(path + folder_names[loop]):\n",
    "        print(path + folder_names[loop])\n",
    "        os.makedirs((path + folder_names[loop]))\n",
    "\n",
    "for file in file_name:\n",
    "    if \".xlsx\" in file and not os.path.exists(path +\"csv files/\" + file):\n",
    "        shutil.move(path + file, path + \"csv files/\" + file)\n",
    "    elif \".jpg\"  in file and not os.path.exists(path +\"image files/\" + file):\n",
    "        shutil.move(path + file, path + \"image files/\" + file)\n",
    "    elif \".txt\"  in file and not os.path.exists(path +\"text files/\" + file):\n",
    "        shutil.move(path + file, path + \"text files/\" + file)"
   ]
  },
  {
   "cell_type": "code",
   "execution_count": 27,
   "id": "14f72912-05e9-4f7c-b757-04f931005b7b",
   "metadata": {},
   "outputs": [],
   "source": []
  },
  {
   "cell_type": "code",
   "execution_count": null,
   "id": "248ea431-88dc-4156-b83a-41c50bcd172d",
   "metadata": {},
   "outputs": [],
   "source": []
  }
 ],
 "metadata": {
  "kernelspec": {
   "display_name": "Python 3 (ipykernel)",
   "language": "python",
   "name": "python3"
  },
  "language_info": {
   "codemirror_mode": {
    "name": "ipython",
    "version": 3
   },
   "file_extension": ".py",
   "mimetype": "text/x-python",
   "name": "python",
   "nbconvert_exporter": "python",
   "pygments_lexer": "ipython3",
   "version": "3.11.7"
  }
 },
 "nbformat": 4,
 "nbformat_minor": 5
}
