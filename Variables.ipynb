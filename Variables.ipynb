{
 "cells": [
  {
   "cell_type": "code",
   "execution_count": 1,
   "id": "7c9ea981-5f41-4cae-bbf4-a7a130c356df",
   "metadata": {},
   "outputs": [
    {
     "name": "stdout",
     "output_type": "stream",
     "text": [
      "22\n"
     ]
    }
   ],
   "source": [
    "x=22\n",
    "print(x)"
   ]
  },
  {
   "cell_type": "code",
   "execution_count": 2,
   "id": "d1aad893-002a-4216-913b-3cb7d98ef940",
   "metadata": {},
   "outputs": [
    {
     "data": {
      "text/plain": [
       "int"
      ]
     },
     "execution_count": 2,
     "metadata": {},
     "output_type": "execute_result"
    }
   ],
   "source": [
    "type(x)"
   ]
  },
  {
   "cell_type": "code",
   "execution_count": 3,
   "id": "eb164f98-f721-49e8-b1dd-7c73cf5a99d3",
   "metadata": {},
   "outputs": [
    {
     "name": "stdout",
     "output_type": "stream",
     "text": [
      "Mint Choco Chip\n"
     ]
    }
   ],
   "source": [
    "y=\"Mint Choco Chip\"\n",
    "print(y)"
   ]
  },
  {
   "cell_type": "code",
   "execution_count": 4,
   "id": "8525ca91-8a72-456a-b8a9-807f49d011d4",
   "metadata": {},
   "outputs": [
    {
     "data": {
      "text/plain": [
       "str"
      ]
     },
     "execution_count": 4,
     "metadata": {},
     "output_type": "execute_result"
    }
   ],
   "source": [
    "type(y)"
   ]
  },
  {
   "cell_type": "code",
   "execution_count": 7,
   "id": "6e6206cf-c1f0-4568-b866-9a31e1b8ce1e",
   "metadata": {},
   "outputs": [
    {
     "name": "stdout",
     "output_type": "stream",
     "text": [
      "choc\n"
     ]
    }
   ],
   "source": [
    "y=\"choc\"\n",
    "Y=\"Mint\"\n",
    "print(y)\n",
    "#case sensitive"
   ]
  },
  {
   "cell_type": "code",
   "execution_count": 10,
   "id": "83026dcc-26e0-436a-b743-d20a342b14a5",
   "metadata": {},
   "outputs": [
    {
     "name": "stdout",
     "output_type": "stream",
     "text": [
      "Chocolate\n",
      "Vanila\n",
      "Rocky Road\n"
     ]
    }
   ],
   "source": [
    "x,y,z=\"Chocolate\",\"Vanila\", \"Rocky Road\"\n",
    "print(x)\n",
    "print(y)\n",
    "print(z)\n"
   ]
  },
  {
   "cell_type": "code",
   "execution_count": 13,
   "id": "68ae96e7-a110-4266-8926-0fe3e9ba8e38",
   "metadata": {},
   "outputs": [
    {
     "name": "stdout",
     "output_type": "stream",
     "text": [
      "Root Beer Float\n",
      "Root Beer Float\n",
      "Root Beer Float\n"
     ]
    }
   ],
   "source": [
    "x=y=z=\"Root Beer Float\"\n",
    "print(x)\n",
    "print(y)\n",
    "print(z)\n"
   ]
  },
  {
   "cell_type": "code",
   "execution_count": 14,
   "id": "9440050f-3e35-439c-be7e-b1355bfe2840",
   "metadata": {},
   "outputs": [
    {
     "name": "stdout",
     "output_type": "stream",
     "text": [
      "choco\n",
      "Vanila\n",
      "coffe\n"
     ]
    }
   ],
   "source": [
    "ice_cream=['choco','Vanila','coffe']\n",
    "x,y,z =ice_cream\n",
    "print(x)\n",
    "print(y)\n",
    "print(z)\n"
   ]
  },
  {
   "cell_type": "code",
   "execution_count": 15,
   "id": "daff490c-582f-44c0-8643-140a7b3c6d68",
   "metadata": {},
   "outputs": [],
   "source": [
    "# camel case\n",
    "# Test variable case\n",
    "testVariableCase = 'Vanilla swirl' "
   ]
  },
  {
   "cell_type": "code",
   "execution_count": 16,
   "id": "513d2c45-122b-4fcd-96f8-82bbc3017584",
   "metadata": {},
   "outputs": [],
   "source": [
    "# Pascal case\n",
    "# Test variable case\n",
    "TestVariableCase = 'Vanilla swirl' "
   ]
  },
  {
   "cell_type": "code",
   "execution_count": 17,
   "id": "a8a1407d-6b0c-4fbf-a7ff-4e263c889d0c",
   "metadata": {},
   "outputs": [],
   "source": [
    "# snake case\n",
    "# Test variable case\n",
    "test_variable_case = 'Vanilla swirl' "
   ]
  },
  {
   "cell_type": "code",
   "execution_count": 18,
   "id": "b540e843-5848-40b4-b48c-b2364b3f8e90",
   "metadata": {},
   "outputs": [],
   "source": [
    "testvar = 'Vanilla swirl' \n",
    "test_var = 'Vanilla swirl' \n",
    "_test_var = 'Vanilla swirl' \n",
    "testVar = 'Vanilla swirl' \n",
    "TestVar = 'Vanilla swirl' \n",
    "testVar2 = 'Vanilla swirl' "
   ]
  },
  {
   "cell_type": "code",
   "execution_count": 19,
   "id": "b2fe522c-6306-457e-9cbd-1a611d91bec7",
   "metadata": {},
   "outputs": [
    {
     "ename": "SyntaxError",
     "evalue": "invalid decimal literal (3842676172.py, line 1)",
     "output_type": "error",
     "traceback": [
      "\u001b[1;36m  Cell \u001b[1;32mIn[19], line 1\u001b[1;36m\u001b[0m\n\u001b[1;33m    2testVar = 'Vanilla swirl'\u001b[0m\n\u001b[1;37m    ^\u001b[0m\n\u001b[1;31mSyntaxError\u001b[0m\u001b[1;31m:\u001b[0m invalid decimal literal\n"
     ]
    }
   ],
   "source": [
    "# \n",
    "2testVar = 'Vanilla swirl' \n",
    "test-Var2= 'Vanilla swirl' \n",
    "test Var2= 'Vanilla swirl' \n",
    "test-Var2= 'Vanilla swirl' "
   ]
  },
  {
   "cell_type": "code",
   "execution_count": 21,
   "id": "124fbb88-6792-45b1-9f5a-affec1194efa",
   "metadata": {},
   "outputs": [
    {
     "name": "stdout",
     "output_type": "stream",
     "text": [
      "You are my prince.\n"
     ]
    }
   ],
   "source": [
    "x='You are my prince'+'.'\n",
    "print(x)"
   ]
  },
  {
   "cell_type": "code",
   "execution_count": 22,
   "id": "4d41d999-7e24-4d13-91f4-03bf9d3fc970",
   "metadata": {},
   "outputs": [
    {
     "name": "stdout",
     "output_type": "stream",
     "text": [
      "1.5\n"
     ]
    }
   ],
   "source": [
    "y=3/2\n",
    "print(y)\n"
   ]
  },
  {
   "cell_type": "code",
   "execution_count": 25,
   "id": "f5aefbdb-b058-4bd0-9be6-840296e53f16",
   "metadata": {},
   "outputs": [
    {
     "name": "stdout",
     "output_type": "stream",
     "text": [
      "ice cream is my favourite\n"
     ]
    }
   ],
   "source": [
    "#strings\n",
    "x='ice cream'\n",
    "y=' is '\n",
    "z='my favourite'\n",
    "print(x+y+z)\n"
   ]
  },
  {
   "cell_type": "code",
   "execution_count": 26,
   "id": "e4e7fce0-31e3-4aa3-9370-bbfffbcca760",
   "metadata": {},
   "outputs": [
    {
     "name": "stdout",
     "output_type": "stream",
     "text": [
      "6\n"
     ]
    }
   ],
   "source": [
    "#integer\n",
    "x=1\n",
    "y=2\n",
    "z=3\n",
    "print(x+y+z)"
   ]
  },
  {
   "cell_type": "code",
   "execution_count": 28,
   "id": "304bd981-f417-437e-84f1-5ab51b469c93",
   "metadata": {},
   "outputs": [
    {
     "name": "stdout",
     "output_type": "stream",
     "text": [
      "Ice cream 2\n"
     ]
    }
   ],
   "source": [
    "#strings and integers\n",
    "x='Ice cream'\n",
    "y=2\n",
    "print(x,y)"
   ]
  },
  {
   "cell_type": "code",
   "execution_count": null,
   "id": "2cf01079-3a61-4b36-8a3f-1972ab474781",
   "metadata": {},
   "outputs": [],
   "source": []
  }
 ],
 "metadata": {
  "kernelspec": {
   "display_name": "Python 3 (ipykernel)",
   "language": "python",
   "name": "python3"
  },
  "language_info": {
   "codemirror_mode": {
    "name": "ipython",
    "version": 3
   },
   "file_extension": ".py",
   "mimetype": "text/x-python",
   "name": "python",
   "nbconvert_exporter": "python",
   "pygments_lexer": "ipython3",
   "version": "3.11.7"
  }
 },
 "nbformat": 4,
 "nbformat_minor": 5
}
